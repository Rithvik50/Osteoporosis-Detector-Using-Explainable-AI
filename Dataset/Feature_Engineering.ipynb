{
  "nbformat": 4,
  "nbformat_minor": 0,
  "metadata": {
    "colab": {
      "provenance": []
    },
    "kernelspec": {
      "name": "python3",
      "display_name": "Python 3"
    },
    "language_info": {
      "name": "python"
    }
  },
  "cells": [
    {
      "cell_type": "code",
      "execution_count": 114,
      "metadata": {
        "id": "slcW2tX8rC2h"
      },
      "outputs": [],
      "source": [
        "import pandas as pd\n",
        "import numpy as np"
      ]
    },
    {
      "cell_type": "code",
      "source": [
        "df = pd.read_csv(\"final_dataset.csv\")"
      ],
      "metadata": {
        "id": "1BcwFYzQrSQb"
      },
      "execution_count": 115,
      "outputs": []
    },
    {
      "cell_type": "code",
      "source": [
        "df.info()"
      ],
      "metadata": {
        "colab": {
          "base_uri": "https://localhost:8080/"
        },
        "id": "Im4FMsKorWvN",
        "outputId": "f899d030-6522-4233-d7ab-116f170a2359"
      },
      "execution_count": 116,
      "outputs": [
        {
          "output_type": "stream",
          "name": "stdout",
          "text": [
            "<class 'pandas.core.frame.DataFrame'>\n",
            "RangeIndex: 10500 entries, 0 to 10499\n",
            "Data columns (total 16 columns):\n",
            " #   Column                          Non-Null Count  Dtype  \n",
            "---  ------                          --------------  -----  \n",
            " 0   Gender                          10500 non-null  int64  \n",
            " 1   Age                             10500 non-null  int64  \n",
            " 2   Menopause Age                   10500 non-null  int64  \n",
            " 3   has_menopauseAge                10500 non-null  int64  \n",
            " 4   Height                          10500 non-null  float64\n",
            " 5   Weight                          10500 non-null  float64\n",
            " 6   BMI                             10500 non-null  float64\n",
            " 7   Smoker                          10500 non-null  int64  \n",
            " 8   Alcoholic                       10500 non-null  int64  \n",
            " 9   Diabetic                        10500 non-null  int64  \n",
            " 10  Hypothyroidism                  10500 non-null  int64  \n",
            " 11  Estrogen Use                    10500 non-null  int64  \n",
            " 12  History of Fracture             10500 non-null  int64  \n",
            " 13  Dialysis                        10500 non-null  int64  \n",
            " 14  Family History of Osteoporosis  10500 non-null  int64  \n",
            " 15  Diagnosis                       10500 non-null  int64  \n",
            "dtypes: float64(3), int64(13)\n",
            "memory usage: 1.3 MB\n"
          ]
        }
      ]
    },
    {
      "cell_type": "code",
      "source": [
        "df.head(5)"
      ],
      "metadata": {
        "colab": {
          "base_uri": "https://localhost:8080/",
          "height": 261
        },
        "id": "iNRRSg4prmjr",
        "outputId": "0db261c9-a12b-4141-fa06-368bb623fde8"
      },
      "execution_count": 117,
      "outputs": [
        {
          "output_type": "execute_result",
          "data": {
            "text/plain": [
              "   Gender  Age  Menopause Age  has_menopauseAge  Height  Weight   BMI  Smoker  \\\n",
              "0       0   48              0                 0   183.3   113.9  33.9       0   \n",
              "1       1   49             48                 1   164.2    52.3  19.4       1   \n",
              "2       0   77              0                 0   188.0   130.6  37.0       0   \n",
              "3       0   20              0                 0   180.1    77.3  23.8       1   \n",
              "4       0   40              0                 0   173.7    78.0  25.9       0   \n",
              "\n",
              "   Alcoholic  Diabetic  Hypothyroidism  Estrogen Use  History of Fracture  \\\n",
              "0          1         1               0             0                    0   \n",
              "1          1         0               1             0                    0   \n",
              "2          0         1               0             0                    1   \n",
              "3          0         1               1             0                    0   \n",
              "4          1         0               0             0                    1   \n",
              "\n",
              "   Dialysis  Family History of Osteoporosis  Diagnosis  \n",
              "0         1                               0          0  \n",
              "1         0                               0          0  \n",
              "2         0                               1          0  \n",
              "3         0                               0          0  \n",
              "4         0                               0          0  "
            ],
            "text/html": [
              "\n",
              "  <div id=\"df-7c0e465a-fa84-4002-9cf7-55757f02d1c4\" class=\"colab-df-container\">\n",
              "    <div>\n",
              "<style scoped>\n",
              "    .dataframe tbody tr th:only-of-type {\n",
              "        vertical-align: middle;\n",
              "    }\n",
              "\n",
              "    .dataframe tbody tr th {\n",
              "        vertical-align: top;\n",
              "    }\n",
              "\n",
              "    .dataframe thead th {\n",
              "        text-align: right;\n",
              "    }\n",
              "</style>\n",
              "<table border=\"1\" class=\"dataframe\">\n",
              "  <thead>\n",
              "    <tr style=\"text-align: right;\">\n",
              "      <th></th>\n",
              "      <th>Gender</th>\n",
              "      <th>Age</th>\n",
              "      <th>Menopause Age</th>\n",
              "      <th>has_menopauseAge</th>\n",
              "      <th>Height</th>\n",
              "      <th>Weight</th>\n",
              "      <th>BMI</th>\n",
              "      <th>Smoker</th>\n",
              "      <th>Alcoholic</th>\n",
              "      <th>Diabetic</th>\n",
              "      <th>Hypothyroidism</th>\n",
              "      <th>Estrogen Use</th>\n",
              "      <th>History of Fracture</th>\n",
              "      <th>Dialysis</th>\n",
              "      <th>Family History of Osteoporosis</th>\n",
              "      <th>Diagnosis</th>\n",
              "    </tr>\n",
              "  </thead>\n",
              "  <tbody>\n",
              "    <tr>\n",
              "      <th>0</th>\n",
              "      <td>0</td>\n",
              "      <td>48</td>\n",
              "      <td>0</td>\n",
              "      <td>0</td>\n",
              "      <td>183.3</td>\n",
              "      <td>113.9</td>\n",
              "      <td>33.9</td>\n",
              "      <td>0</td>\n",
              "      <td>1</td>\n",
              "      <td>1</td>\n",
              "      <td>0</td>\n",
              "      <td>0</td>\n",
              "      <td>0</td>\n",
              "      <td>1</td>\n",
              "      <td>0</td>\n",
              "      <td>0</td>\n",
              "    </tr>\n",
              "    <tr>\n",
              "      <th>1</th>\n",
              "      <td>1</td>\n",
              "      <td>49</td>\n",
              "      <td>48</td>\n",
              "      <td>1</td>\n",
              "      <td>164.2</td>\n",
              "      <td>52.3</td>\n",
              "      <td>19.4</td>\n",
              "      <td>1</td>\n",
              "      <td>1</td>\n",
              "      <td>0</td>\n",
              "      <td>1</td>\n",
              "      <td>0</td>\n",
              "      <td>0</td>\n",
              "      <td>0</td>\n",
              "      <td>0</td>\n",
              "      <td>0</td>\n",
              "    </tr>\n",
              "    <tr>\n",
              "      <th>2</th>\n",
              "      <td>0</td>\n",
              "      <td>77</td>\n",
              "      <td>0</td>\n",
              "      <td>0</td>\n",
              "      <td>188.0</td>\n",
              "      <td>130.6</td>\n",
              "      <td>37.0</td>\n",
              "      <td>0</td>\n",
              "      <td>0</td>\n",
              "      <td>1</td>\n",
              "      <td>0</td>\n",
              "      <td>0</td>\n",
              "      <td>1</td>\n",
              "      <td>0</td>\n",
              "      <td>1</td>\n",
              "      <td>0</td>\n",
              "    </tr>\n",
              "    <tr>\n",
              "      <th>3</th>\n",
              "      <td>0</td>\n",
              "      <td>20</td>\n",
              "      <td>0</td>\n",
              "      <td>0</td>\n",
              "      <td>180.1</td>\n",
              "      <td>77.3</td>\n",
              "      <td>23.8</td>\n",
              "      <td>1</td>\n",
              "      <td>0</td>\n",
              "      <td>1</td>\n",
              "      <td>1</td>\n",
              "      <td>0</td>\n",
              "      <td>0</td>\n",
              "      <td>0</td>\n",
              "      <td>0</td>\n",
              "      <td>0</td>\n",
              "    </tr>\n",
              "    <tr>\n",
              "      <th>4</th>\n",
              "      <td>0</td>\n",
              "      <td>40</td>\n",
              "      <td>0</td>\n",
              "      <td>0</td>\n",
              "      <td>173.7</td>\n",
              "      <td>78.0</td>\n",
              "      <td>25.9</td>\n",
              "      <td>0</td>\n",
              "      <td>1</td>\n",
              "      <td>0</td>\n",
              "      <td>0</td>\n",
              "      <td>0</td>\n",
              "      <td>1</td>\n",
              "      <td>0</td>\n",
              "      <td>0</td>\n",
              "      <td>0</td>\n",
              "    </tr>\n",
              "  </tbody>\n",
              "</table>\n",
              "</div>\n",
              "    <div class=\"colab-df-buttons\">\n",
              "\n",
              "  <div class=\"colab-df-container\">\n",
              "    <button class=\"colab-df-convert\" onclick=\"convertToInteractive('df-7c0e465a-fa84-4002-9cf7-55757f02d1c4')\"\n",
              "            title=\"Convert this dataframe to an interactive table.\"\n",
              "            style=\"display:none;\">\n",
              "\n",
              "  <svg xmlns=\"http://www.w3.org/2000/svg\" height=\"24px\" viewBox=\"0 -960 960 960\">\n",
              "    <path d=\"M120-120v-720h720v720H120Zm60-500h600v-160H180v160Zm220 220h160v-160H400v160Zm0 220h160v-160H400v160ZM180-400h160v-160H180v160Zm440 0h160v-160H620v160ZM180-180h160v-160H180v160Zm440 0h160v-160H620v160Z\"/>\n",
              "  </svg>\n",
              "    </button>\n",
              "\n",
              "  <style>\n",
              "    .colab-df-container {\n",
              "      display:flex;\n",
              "      gap: 12px;\n",
              "    }\n",
              "\n",
              "    .colab-df-convert {\n",
              "      background-color: #E8F0FE;\n",
              "      border: none;\n",
              "      border-radius: 50%;\n",
              "      cursor: pointer;\n",
              "      display: none;\n",
              "      fill: #1967D2;\n",
              "      height: 32px;\n",
              "      padding: 0 0 0 0;\n",
              "      width: 32px;\n",
              "    }\n",
              "\n",
              "    .colab-df-convert:hover {\n",
              "      background-color: #E2EBFA;\n",
              "      box-shadow: 0px 1px 2px rgba(60, 64, 67, 0.3), 0px 1px 3px 1px rgba(60, 64, 67, 0.15);\n",
              "      fill: #174EA6;\n",
              "    }\n",
              "\n",
              "    .colab-df-buttons div {\n",
              "      margin-bottom: 4px;\n",
              "    }\n",
              "\n",
              "    [theme=dark] .colab-df-convert {\n",
              "      background-color: #3B4455;\n",
              "      fill: #D2E3FC;\n",
              "    }\n",
              "\n",
              "    [theme=dark] .colab-df-convert:hover {\n",
              "      background-color: #434B5C;\n",
              "      box-shadow: 0px 1px 3px 1px rgba(0, 0, 0, 0.15);\n",
              "      filter: drop-shadow(0px 1px 2px rgba(0, 0, 0, 0.3));\n",
              "      fill: #FFFFFF;\n",
              "    }\n",
              "  </style>\n",
              "\n",
              "    <script>\n",
              "      const buttonEl =\n",
              "        document.querySelector('#df-7c0e465a-fa84-4002-9cf7-55757f02d1c4 button.colab-df-convert');\n",
              "      buttonEl.style.display =\n",
              "        google.colab.kernel.accessAllowed ? 'block' : 'none';\n",
              "\n",
              "      async function convertToInteractive(key) {\n",
              "        const element = document.querySelector('#df-7c0e465a-fa84-4002-9cf7-55757f02d1c4');\n",
              "        const dataTable =\n",
              "          await google.colab.kernel.invokeFunction('convertToInteractive',\n",
              "                                                    [key], {});\n",
              "        if (!dataTable) return;\n",
              "\n",
              "        const docLinkHtml = 'Like what you see? Visit the ' +\n",
              "          '<a target=\"_blank\" href=https://colab.research.google.com/notebooks/data_table.ipynb>data table notebook</a>'\n",
              "          + ' to learn more about interactive tables.';\n",
              "        element.innerHTML = '';\n",
              "        dataTable['output_type'] = 'display_data';\n",
              "        await google.colab.output.renderOutput(dataTable, element);\n",
              "        const docLink = document.createElement('div');\n",
              "        docLink.innerHTML = docLinkHtml;\n",
              "        element.appendChild(docLink);\n",
              "      }\n",
              "    </script>\n",
              "  </div>\n",
              "\n",
              "\n",
              "    <div id=\"df-690b162b-c0f8-4645-a640-d1b022edb2c3\">\n",
              "      <button class=\"colab-df-quickchart\" onclick=\"quickchart('df-690b162b-c0f8-4645-a640-d1b022edb2c3')\"\n",
              "                title=\"Suggest charts\"\n",
              "                style=\"display:none;\">\n",
              "\n",
              "<svg xmlns=\"http://www.w3.org/2000/svg\" height=\"24px\"viewBox=\"0 0 24 24\"\n",
              "     width=\"24px\">\n",
              "    <g>\n",
              "        <path d=\"M19 3H5c-1.1 0-2 .9-2 2v14c0 1.1.9 2 2 2h14c1.1 0 2-.9 2-2V5c0-1.1-.9-2-2-2zM9 17H7v-7h2v7zm4 0h-2V7h2v10zm4 0h-2v-4h2v4z\"/>\n",
              "    </g>\n",
              "</svg>\n",
              "      </button>\n",
              "\n",
              "<style>\n",
              "  .colab-df-quickchart {\n",
              "      --bg-color: #E8F0FE;\n",
              "      --fill-color: #1967D2;\n",
              "      --hover-bg-color: #E2EBFA;\n",
              "      --hover-fill-color: #174EA6;\n",
              "      --disabled-fill-color: #AAA;\n",
              "      --disabled-bg-color: #DDD;\n",
              "  }\n",
              "\n",
              "  [theme=dark] .colab-df-quickchart {\n",
              "      --bg-color: #3B4455;\n",
              "      --fill-color: #D2E3FC;\n",
              "      --hover-bg-color: #434B5C;\n",
              "      --hover-fill-color: #FFFFFF;\n",
              "      --disabled-bg-color: #3B4455;\n",
              "      --disabled-fill-color: #666;\n",
              "  }\n",
              "\n",
              "  .colab-df-quickchart {\n",
              "    background-color: var(--bg-color);\n",
              "    border: none;\n",
              "    border-radius: 50%;\n",
              "    cursor: pointer;\n",
              "    display: none;\n",
              "    fill: var(--fill-color);\n",
              "    height: 32px;\n",
              "    padding: 0;\n",
              "    width: 32px;\n",
              "  }\n",
              "\n",
              "  .colab-df-quickchart:hover {\n",
              "    background-color: var(--hover-bg-color);\n",
              "    box-shadow: 0 1px 2px rgba(60, 64, 67, 0.3), 0 1px 3px 1px rgba(60, 64, 67, 0.15);\n",
              "    fill: var(--button-hover-fill-color);\n",
              "  }\n",
              "\n",
              "  .colab-df-quickchart-complete:disabled,\n",
              "  .colab-df-quickchart-complete:disabled:hover {\n",
              "    background-color: var(--disabled-bg-color);\n",
              "    fill: var(--disabled-fill-color);\n",
              "    box-shadow: none;\n",
              "  }\n",
              "\n",
              "  .colab-df-spinner {\n",
              "    border: 2px solid var(--fill-color);\n",
              "    border-color: transparent;\n",
              "    border-bottom-color: var(--fill-color);\n",
              "    animation:\n",
              "      spin 1s steps(1) infinite;\n",
              "  }\n",
              "\n",
              "  @keyframes spin {\n",
              "    0% {\n",
              "      border-color: transparent;\n",
              "      border-bottom-color: var(--fill-color);\n",
              "      border-left-color: var(--fill-color);\n",
              "    }\n",
              "    20% {\n",
              "      border-color: transparent;\n",
              "      border-left-color: var(--fill-color);\n",
              "      border-top-color: var(--fill-color);\n",
              "    }\n",
              "    30% {\n",
              "      border-color: transparent;\n",
              "      border-left-color: var(--fill-color);\n",
              "      border-top-color: var(--fill-color);\n",
              "      border-right-color: var(--fill-color);\n",
              "    }\n",
              "    40% {\n",
              "      border-color: transparent;\n",
              "      border-right-color: var(--fill-color);\n",
              "      border-top-color: var(--fill-color);\n",
              "    }\n",
              "    60% {\n",
              "      border-color: transparent;\n",
              "      border-right-color: var(--fill-color);\n",
              "    }\n",
              "    80% {\n",
              "      border-color: transparent;\n",
              "      border-right-color: var(--fill-color);\n",
              "      border-bottom-color: var(--fill-color);\n",
              "    }\n",
              "    90% {\n",
              "      border-color: transparent;\n",
              "      border-bottom-color: var(--fill-color);\n",
              "    }\n",
              "  }\n",
              "</style>\n",
              "\n",
              "      <script>\n",
              "        async function quickchart(key) {\n",
              "          const quickchartButtonEl =\n",
              "            document.querySelector('#' + key + ' button');\n",
              "          quickchartButtonEl.disabled = true;  // To prevent multiple clicks.\n",
              "          quickchartButtonEl.classList.add('colab-df-spinner');\n",
              "          try {\n",
              "            const charts = await google.colab.kernel.invokeFunction(\n",
              "                'suggestCharts', [key], {});\n",
              "          } catch (error) {\n",
              "            console.error('Error during call to suggestCharts:', error);\n",
              "          }\n",
              "          quickchartButtonEl.classList.remove('colab-df-spinner');\n",
              "          quickchartButtonEl.classList.add('colab-df-quickchart-complete');\n",
              "        }\n",
              "        (() => {\n",
              "          let quickchartButtonEl =\n",
              "            document.querySelector('#df-690b162b-c0f8-4645-a640-d1b022edb2c3 button');\n",
              "          quickchartButtonEl.style.display =\n",
              "            google.colab.kernel.accessAllowed ? 'block' : 'none';\n",
              "        })();\n",
              "      </script>\n",
              "    </div>\n",
              "\n",
              "    </div>\n",
              "  </div>\n"
            ],
            "application/vnd.google.colaboratory.intrinsic+json": {
              "type": "dataframe",
              "variable_name": "df",
              "summary": "{\n  \"name\": \"df\",\n  \"rows\": 10500,\n  \"fields\": [\n    {\n      \"column\": \"Gender\",\n      \"properties\": {\n        \"dtype\": \"number\",\n        \"std\": 0,\n        \"min\": 0,\n        \"max\": 1,\n        \"num_unique_values\": 2,\n        \"samples\": [\n          1,\n          0\n        ],\n        \"semantic_type\": \"\",\n        \"description\": \"\"\n      }\n    },\n    {\n      \"column\": \"Age\",\n      \"properties\": {\n        \"dtype\": \"number\",\n        \"std\": 15,\n        \"min\": 20,\n        \"max\": 95,\n        \"num_unique_values\": 76,\n        \"samples\": [\n          40,\n          38\n        ],\n        \"semantic_type\": \"\",\n        \"description\": \"\"\n      }\n    },\n    {\n      \"column\": \"Menopause Age\",\n      \"properties\": {\n        \"dtype\": \"number\",\n        \"std\": 24,\n        \"min\": 0,\n        \"max\": 58,\n        \"num_unique_values\": 26,\n        \"samples\": [\n          52,\n          42\n        ],\n        \"semantic_type\": \"\",\n        \"description\": \"\"\n      }\n    },\n    {\n      \"column\": \"has_menopauseAge\",\n      \"properties\": {\n        \"dtype\": \"number\",\n        \"std\": 0,\n        \"min\": 0,\n        \"max\": 1,\n        \"num_unique_values\": 2,\n        \"samples\": [\n          1,\n          0\n        ],\n        \"semantic_type\": \"\",\n        \"description\": \"\"\n      }\n    },\n    {\n      \"column\": \"Height\",\n      \"properties\": {\n        \"dtype\": \"number\",\n        \"std\": 10.517421078451058,\n        \"min\": 145.0,\n        \"max\": 200.0,\n        \"num_unique_values\": 520,\n        \"samples\": [\n          158.5,\n          181.8\n        ],\n        \"semantic_type\": \"\",\n        \"description\": \"\"\n      }\n    },\n    {\n      \"column\": \"Weight\",\n      \"properties\": {\n        \"dtype\": \"number\",\n        \"std\": 17.716634080269763,\n        \"min\": 31.3,\n        \"max\": 152.5,\n        \"num_unique_values\": 901,\n        \"samples\": [\n          42.9,\n          59.8\n        ],\n        \"semantic_type\": \"\",\n        \"description\": \"\"\n      }\n    },\n    {\n      \"column\": \"BMI\",\n      \"properties\": {\n        \"dtype\": \"number\",\n        \"std\": 5.489182644081126,\n        \"min\": 14.7,\n        \"max\": 48.6,\n        \"num_unique_values\": 287,\n        \"samples\": [\n          31.7,\n          48.6\n        ],\n        \"semantic_type\": \"\",\n        \"description\": \"\"\n      }\n    },\n    {\n      \"column\": \"Smoker\",\n      \"properties\": {\n        \"dtype\": \"number\",\n        \"std\": 0,\n        \"min\": 0,\n        \"max\": 1,\n        \"num_unique_values\": 2,\n        \"samples\": [\n          1,\n          0\n        ],\n        \"semantic_type\": \"\",\n        \"description\": \"\"\n      }\n    },\n    {\n      \"column\": \"Alcoholic\",\n      \"properties\": {\n        \"dtype\": \"number\",\n        \"std\": 0,\n        \"min\": 0,\n        \"max\": 1,\n        \"num_unique_values\": 2,\n        \"samples\": [\n          0,\n          1\n        ],\n        \"semantic_type\": \"\",\n        \"description\": \"\"\n      }\n    },\n    {\n      \"column\": \"Diabetic\",\n      \"properties\": {\n        \"dtype\": \"number\",\n        \"std\": 0,\n        \"min\": 0,\n        \"max\": 1,\n        \"num_unique_values\": 2,\n        \"samples\": [\n          0,\n          1\n        ],\n        \"semantic_type\": \"\",\n        \"description\": \"\"\n      }\n    },\n    {\n      \"column\": \"Hypothyroidism\",\n      \"properties\": {\n        \"dtype\": \"number\",\n        \"std\": 0,\n        \"min\": 0,\n        \"max\": 1,\n        \"num_unique_values\": 2,\n        \"samples\": [\n          1,\n          0\n        ],\n        \"semantic_type\": \"\",\n        \"description\": \"\"\n      }\n    },\n    {\n      \"column\": \"Estrogen Use\",\n      \"properties\": {\n        \"dtype\": \"number\",\n        \"std\": 0,\n        \"min\": 0,\n        \"max\": 1,\n        \"num_unique_values\": 2,\n        \"samples\": [\n          1,\n          0\n        ],\n        \"semantic_type\": \"\",\n        \"description\": \"\"\n      }\n    },\n    {\n      \"column\": \"History of Fracture\",\n      \"properties\": {\n        \"dtype\": \"number\",\n        \"std\": 0,\n        \"min\": 0,\n        \"max\": 1,\n        \"num_unique_values\": 2,\n        \"samples\": [\n          1,\n          0\n        ],\n        \"semantic_type\": \"\",\n        \"description\": \"\"\n      }\n    },\n    {\n      \"column\": \"Dialysis\",\n      \"properties\": {\n        \"dtype\": \"number\",\n        \"std\": 0,\n        \"min\": 0,\n        \"max\": 1,\n        \"num_unique_values\": 2,\n        \"samples\": [\n          0,\n          1\n        ],\n        \"semantic_type\": \"\",\n        \"description\": \"\"\n      }\n    },\n    {\n      \"column\": \"Family History of Osteoporosis\",\n      \"properties\": {\n        \"dtype\": \"number\",\n        \"std\": 0,\n        \"min\": 0,\n        \"max\": 1,\n        \"num_unique_values\": 2,\n        \"samples\": [\n          1,\n          0\n        ],\n        \"semantic_type\": \"\",\n        \"description\": \"\"\n      }\n    },\n    {\n      \"column\": \"Diagnosis\",\n      \"properties\": {\n        \"dtype\": \"number\",\n        \"std\": 0,\n        \"min\": 0,\n        \"max\": 2,\n        \"num_unique_values\": 3,\n        \"samples\": [\n          0,\n          1\n        ],\n        \"semantic_type\": \"\",\n        \"description\": \"\"\n      }\n    }\n  ]\n}"
            }
          },
          "metadata": {},
          "execution_count": 117
        }
      ]
    },
    {
      "cell_type": "markdown",
      "source": [
        "## FEATURE ENGINEERING"
      ],
      "metadata": {
        "id": "vPCXkUy4rt85"
      }
    },
    {
      "cell_type": "code",
      "source": [
        "df[\"Age_x_BMI\"] = df[\"Age\"] * df[\"BMI\"]"
      ],
      "metadata": {
        "id": "6kABvyr1rsjf"
      },
      "execution_count": 118,
      "outputs": []
    },
    {
      "cell_type": "code",
      "source": [
        "def func(age, menopause_age):\n",
        "  if menopause_age!=0:\n",
        "    return age-menopause_age\n",
        "\n",
        "df[\"years_since_menopause\"] = df.apply(lambda x: func(x[\"Age\"], x[\"Menopause Age\"]), axis=1).fillna(0).clip(lower=0).astype(int)"
      ],
      "metadata": {
        "id": "IOvdD4eP8-1r"
      },
      "execution_count": 119,
      "outputs": []
    },
    {
      "cell_type": "code",
      "source": [
        "def bmi_category(bmi):\n",
        "  if bmi < 18.5:\n",
        "    return \"Underweight\"\n",
        "  elif bmi < 25:\n",
        "    return \"Normal\"\n",
        "  elif bmi < 30:\n",
        "    return \"Overweight\"\n",
        "  else:\n",
        "    return \"Obese\"\n",
        "\n",
        "df[\"BMI_category\"] = df[\"BMI\"].apply(bmi_category)"
      ],
      "metadata": {
        "id": "jsSsVxKT9V9_"
      },
      "execution_count": 120,
      "outputs": []
    },
    {
      "cell_type": "code",
      "source": [
        "bmi_dummies = pd.get_dummies(df[\"BMI_category\"], prefix = \"BMI_cat\").astype(int)\n",
        "df = pd.concat([df, bmi_dummies], axis = 1)"
      ],
      "metadata": {
        "id": "wPNVOTD0H3_T"
      },
      "execution_count": 121,
      "outputs": []
    },
    {
      "cell_type": "code",
      "source": [
        "df = df.drop(columns = ['BMI_category'])"
      ],
      "metadata": {
        "id": "I-e-5f6YpSKn"
      },
      "execution_count": 123,
      "outputs": []
    },
    {
      "cell_type": "code",
      "source": [
        "risk_features = [\"Smoker\", \"Alcoholic\", \"Diabetic\", \"Hypothyroidism\",\n",
        "                 \"History of Fracture\", \"Dialysis\", \"Family History of Osteoporosis\"]"
      ],
      "metadata": {
        "id": "jdccVwM6GIu2"
      },
      "execution_count": 124,
      "outputs": []
    },
    {
      "cell_type": "code",
      "source": [
        "df[\"risk_count\"] = df[risk_features].sum(axis=1)"
      ],
      "metadata": {
        "id": "cU_YLVgUf9tj"
      },
      "execution_count": 125,
      "outputs": []
    },
    {
      "cell_type": "markdown",
      "source": [
        "Introduce Non-Linearity"
      ],
      "metadata": {
        "id": "_ATPkuL5sPgf"
      }
    },
    {
      "cell_type": "code",
      "source": [
        "df[\"Age_squared\"] = df[\"Age\"] ** 2\n",
        "df[\"BMI_squared\"] = df[\"BMI\"] ** 2\n"
      ],
      "metadata": {
        "id": "V3_jqxnhgCyg"
      },
      "execution_count": 126,
      "outputs": []
    },
    {
      "cell_type": "code",
      "source": [
        "df[\"menopause_estrogen_interaction\"] = df[\"years_since_menopause\"] * df[\"Estrogen Use\"]"
      ],
      "metadata": {
        "id": "9vBFg6ckhvrr"
      },
      "execution_count": 127,
      "outputs": []
    },
    {
      "cell_type": "code",
      "source": [
        "df[\"Weight_Height_ratio\"] = df[\"Weight\"] / df[\"Height\"].replace(0, np.nan)"
      ],
      "metadata": {
        "id": "UXDAW9Q6i_TU"
      },
      "execution_count": 128,
      "outputs": []
    },
    {
      "cell_type": "code",
      "source": [
        "df[\"Body_Surface_Area\"] = 0.007184 * (df[\"Weight\"] ** 0.425) * (df[\"Height\"] ** 0.725)"
      ],
      "metadata": {
        "id": "_E7-AL1qjk3I"
      },
      "execution_count": 129,
      "outputs": []
    },
    {
      "cell_type": "code",
      "source": [
        "modify_cols = ['Gender',\n",
        " 'Age',\n",
        " 'Menopause Age',\n",
        " 'has_menopauseAge',\n",
        " 'Height',\n",
        " 'Weight',\n",
        " 'BMI',\n",
        " 'Smoker',\n",
        " 'Alcoholic',\n",
        " 'Diabetic',\n",
        " 'Hypothyroidism',\n",
        " 'Estrogen Use',\n",
        " 'History of Fracture',\n",
        " 'Dialysis',\n",
        " 'Family History of Osteoporosis',\n",
        " 'Diagnosis',\n",
        " 'Age_x_BMI',\n",
        " 'years_since_menopause',\n",
        " 'BMI_cat_Normal',\n",
        " 'BMI_cat_Obese',\n",
        " 'BMI_cat_Overweight',\n",
        " 'BMI_cat_Underweight',\n",
        " 'risk_count',\n",
        " 'Age_squared',\n",
        " 'BMI_squared',\n",
        " 'menopause_estrogen_interaction',\n",
        " 'Weight_Height_ratio',\n",
        " 'Body_Surface_Area']"
      ],
      "metadata": {
        "id": "I79WLVpmlZ3M"
      },
      "execution_count": 134,
      "outputs": []
    },
    {
      "cell_type": "code",
      "metadata": {
        "colab": {
          "base_uri": "https://localhost:8080/"
        },
        "id": "d8b134d9",
        "outputId": "f4d30a41-d9bc-4ed4-bb4f-dfb050757216"
      },
      "source": [
        "modify_cols = [col.lower().replace(\" \", \"_\") for col in modify_cols]\n",
        "print(modify_cols)"
      ],
      "execution_count": 135,
      "outputs": [
        {
          "output_type": "stream",
          "name": "stdout",
          "text": [
            "['gender', 'age', 'menopause_age', 'has_menopauseage', 'height', 'weight', 'bmi', 'smoker', 'alcoholic', 'diabetic', 'hypothyroidism', 'estrogen_use', 'history_of_fracture', 'dialysis', 'family_history_of_osteoporosis', 'diagnosis', 'age_x_bmi', 'years_since_menopause', 'bmi_cat_normal', 'bmi_cat_obese', 'bmi_cat_overweight', 'bmi_cat_underweight', 'risk_count', 'age_squared', 'bmi_squared', 'menopause_estrogen_interaction', 'weight_height_ratio', 'body_surface_area']\n"
          ]
        }
      ]
    },
    {
      "cell_type": "code",
      "source": [
        "modify_cols[3] = \"has_menopause_age\""
      ],
      "metadata": {
        "id": "_mabf5N6mv45"
      },
      "execution_count": 136,
      "outputs": []
    },
    {
      "cell_type": "code",
      "source": [
        "df.columns = modify_cols"
      ],
      "metadata": {
        "id": "-hs1T9J4o49l"
      },
      "execution_count": 137,
      "outputs": []
    },
    {
      "cell_type": "code",
      "source": [
        "df.columns"
      ],
      "metadata": {
        "colab": {
          "base_uri": "https://localhost:8080/"
        },
        "id": "EVDfKtJypWXB",
        "outputId": "8e56f3e8-61de-4e33-a93f-310075d21e72"
      },
      "execution_count": 138,
      "outputs": [
        {
          "output_type": "execute_result",
          "data": {
            "text/plain": [
              "Index(['gender', 'age', 'menopause_age', 'has_menopause_age', 'height',\n",
              "       'weight', 'bmi', 'smoker', 'alcoholic', 'diabetic', 'hypothyroidism',\n",
              "       'estrogen_use', 'history_of_fracture', 'dialysis',\n",
              "       'family_history_of_osteoporosis', 'diagnosis', 'age_x_bmi',\n",
              "       'years_since_menopause', 'bmi_cat_normal', 'bmi_cat_obese',\n",
              "       'bmi_cat_overweight', 'bmi_cat_underweight', 'risk_count',\n",
              "       'age_squared', 'bmi_squared', 'menopause_estrogen_interaction',\n",
              "       'weight_height_ratio', 'body_surface_area'],\n",
              "      dtype='object')"
            ]
          },
          "metadata": {},
          "execution_count": 138
        }
      ]
    },
    {
      "cell_type": "code",
      "source": [
        "df.to_csv(\"final_dataset_engineered.csv\", index = False)"
      ],
      "metadata": {
        "id": "EixS7sc6oF_v"
      },
      "execution_count": 139,
      "outputs": []
    }
  ]
}